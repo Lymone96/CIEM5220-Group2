{
 "cells": [
  {
   "cell_type": "markdown",
   "id": "eb38172f",
   "metadata": {},
   "source": [
    "# Content\n",
    "This notebook contains a script to derive soil properties according to:\n",
    "- Gazetas, G. (1991). Formulas and charts for impedances of surface and embedded foundations. Journal of Geotechnical Engineering, 117(9), 1363–1381. https://doi.org/10.1061/(asce)0733-9410(1991)117:9(1363`\n",
    "  \n",
    "Input parameters are from `CIEM5220_SRE Project_Part 2_2025.pdf`"
   ]
  },
  {
   "cell_type": "code",
   "execution_count": null,
   "id": "085d42d7",
   "metadata": {},
   "outputs": [],
   "source": [
    "# Soil Properties (indipendent of Student Number)\n",
    "nu = 0.33      #[-] Poisson Ratio\n",
    "c_u = 50*10e3  #[Pa] Undrained Shear Strength\n",
    "\n",
    "\n",
    "# Foundation dimensions (rectangular slab shallow foundation)\n",
    "side_x = side_y = 4.94 #[m] As a first implementation the slab is as large as the base of the tower\n",
    "# depth  not necessary\n",
    " "
   ]
  },
  {
   "cell_type": "code",
   "execution_count": null,
   "id": "770f4abd",
   "metadata": {},
   "outputs": [],
   "source": [
    "L = side_x/2      #[m] Half-length between center of the circumscribed rectangle and side X-direction (major direction)\n",
    "B = side_y/2      #[m] Half-width between center of the circumscribed rectangle and side Y-direction (minor direction)\n",
    "I_bx = L*B**3/12  #[m^4] Moment of inertia about x-axis\n",
    "I_by = L**3*B/12  #[m^4] Moment of inertia about y-axis\n",
    "G = c_u\n",
    "\n",
    "# Dynamic Stiffness\n",
    "K_y = (2*G*L*/(2-nu))()\n",
    "\n",
    "\n"
   ]
  }
 ],
 "metadata": {
  "kernelspec": {
   "display_name": "workshopA1U3",
   "language": "python",
   "name": "python3"
  },
  "language_info": {
   "name": "python",
   "version": "3.13.2"
  }
 },
 "nbformat": 4,
 "nbformat_minor": 5
}
